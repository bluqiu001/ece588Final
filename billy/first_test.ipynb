{
 "cells": [
  {
   "cell_type": "code",
   "execution_count": 1,
   "metadata": {},
   "outputs": [],
   "source": [
    "import tensorflow as tf\n",
    "\n"
   ]
  },
  {
   "cell_type": "code",
   "execution_count": 2,
   "metadata": {},
   "outputs": [],
   "source": [
    "def img_scaler(image, max_dim = 256):\n",
    "  # Casts a tensor to a new type.\n",
    "  original_shape = tf.cast(tf.shape(image)[:-1], tf.float32)\n",
    "  # Creates a scale constant for the image\n",
    "  scale_ratio = 4 * max_dim / max(original_shape)\n",
    "  # Casts a tensor to a new type.\n",
    "  new_shape = tf.cast(original_shape * scale_ratio, tf.int32)\n",
    "  # Resizes the image based on the scaling constant generated above\n",
    "  return tf.image.resize(image, new_shape)"
   ]
  },
  {
   "cell_type": "code",
   "execution_count": 3,
   "metadata": {},
   "outputs": [],
   "source": [
    "def load_img(path_to_img):\n",
    "  # Reads and outputs the entire contents of the input filename.\n",
    "  img = tf.io.read_file(path_to_img)\n",
    "  # Detect whether an image is a BMP, GIF, JPEG, or PNG, and \n",
    "  # performs the appropriate operation to convert the input \n",
    "  # bytes string into a Tensor of type dtype\n",
    "  img = tf.image.decode_image(img, channels=3)\n",
    "  # Convert image to dtype, scaling (MinMax Normalization) its values if needed.\n",
    "  img = tf.image.convert_image_dtype(img, tf.float32)\n",
    "  # Scale the image using the custom function we created\n",
    "  img = img_scaler(img)\n",
    "  # Adds a fourth dimension to the Tensor because\n",
    "  # the model requires a 4-dimensional Tensor\n",
    "  return img[tf.newaxis, :]"
   ]
  },
  {
   "cell_type": "code",
   "execution_count": null,
   "metadata": {},
   "outputs": [],
   "source": [
    "\n",
    "content_image = load_img(\"/Users/billyluqiu/Desktop/fall2022/ece588Final/billy/photo_jpg/0a7b607c9c.jpg\")\n",
    "style_image = load_img(\"/Users/billyluqiu/Desktop/fall2022/ece588Final/billy/monet_jpg/0bd913dbc7.jpg\")"
   ]
  }
 ],
 "metadata": {
  "kernelspec": {
   "display_name": "Python 3.9.7 ('base')",
   "language": "python",
   "name": "python3"
  },
  "language_info": {
   "codemirror_mode": {
    "name": "ipython",
    "version": 3
   },
   "file_extension": ".py",
   "mimetype": "text/x-python",
   "name": "python",
   "nbconvert_exporter": "python",
   "pygments_lexer": "ipython3",
   "version": "3.9.7"
  },
  "orig_nbformat": 4,
  "vscode": {
   "interpreter": {
    "hash": "38fe08f3d26a479ec4b53fd1eed47e85ad3eb35a4419302a8faf528c63e8efb3"
   }
  }
 },
 "nbformat": 4,
 "nbformat_minor": 2
}
